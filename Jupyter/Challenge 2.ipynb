{
 "cells": [
  {
   "cell_type": "markdown",
   "metadata": {},
   "source": [
    "# Challenge 2\n",
    "## Part 1"
   ]
  },
  {
   "cell_type": "code",
   "execution_count": 1,
   "metadata": {},
   "outputs": [
    {
     "name": "stdout",
     "output_type": "stream",
     "text": [
      "150\n"
     ]
    }
   ],
   "source": [
    "input = ['forward 5', 'down 5', 'forward 8', 'up 3', 'down 8', 'forward 2']\n",
    "hpos = 0\n",
    "depth = 0\n",
    "for i in range(len(input)):\n",
    "    direction = input[i].split()[0]\n",
    "    distance = int(input[i].split()[1])\n",
    "    if direction == 'up':\n",
    "        depth -= distance\n",
    "    elif direction == 'down':\n",
    "        depth += distance\n",
    "    elif direction == 'forward':\n",
    "        hpos += distance\n",
    "solution = hpos * depth\n",
    "print(solution)"
   ]
  },
  {
   "cell_type": "markdown",
   "metadata": {},
   "source": [
    "## Part 2"
   ]
  },
  {
   "cell_type": "code",
   "execution_count": null,
   "metadata": {},
   "outputs": [],
   "source": [
    "input = ['forward 5', 'down 5', 'forward 8', 'up 3', 'down 8', 'forward 2']\n",
    "hpos = 0\n",
    "depth = 0\n",
    "aim = 0\n",
    "for i in range(len(input)):\n",
    "    direction = input[i].split()[0]\n",
    "    distance = int(input[i].split()[1])\n",
    "    if direction == 'up':\n",
    "        aim -= distance\n",
    "    elif direction == 'down':\n",
    "        aim += distance\n",
    "    elif direction == 'forward':\n",
    "        hpos += distance\n",
    "        depth += (aim * distance)\n",
    "solution = hpos * depth\n",
    "print(solution)"
   ]
  }
 ],
 "metadata": {
  "interpreter": {
   "hash": "e7370f93d1d0cde622a1f8e1c04877d8463912d04d973331ad4851f04de6915a"
  },
  "kernelspec": {
   "display_name": "Python 3.9.7 64-bit",
   "name": "python3"
  },
  "language_info": {
   "codemirror_mode": {
    "name": "ipython",
    "version": 3
   },
   "file_extension": ".py",
   "mimetype": "text/x-python",
   "name": "python",
   "nbconvert_exporter": "python",
   "pygments_lexer": "ipython3",
   "version": "3.9.7"
  },
  "orig_nbformat": 4
 },
 "nbformat": 4,
 "nbformat_minor": 2
}
