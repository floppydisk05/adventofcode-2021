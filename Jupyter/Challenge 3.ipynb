{
 "cells": [
  {
   "cell_type": "markdown",
   "metadata": {},
   "source": [
    "# Challenge 3\n",
    "## Part 1"
   ]
  },
  {
   "cell_type": "code",
   "execution_count": 2,
   "metadata": {},
   "outputs": [
    {
     "name": "stdout",
     "output_type": "stream",
     "text": [
      "198\n"
     ]
    }
   ],
   "source": [
    "input = [\"00100\", \"11110\", \"10110\", \"10111\", \"10101\", \"01111\", \"00111\", \"11100\", \"10000\", \"11001\", \"00010\", \"01010\"]\n",
    "gammaRate = []\n",
    "epsilonRate = []\n",
    "ones = 0\n",
    "zeroes = 0\n",
    "\n",
    "def BinToDec(binNum):\n",
    "    decimal = 0\n",
    "    binNum = str(binNum)\n",
    "    for digit in binNum:\n",
    "        decimal = decimal*2 + int(digit)\n",
    "    return decimal\n",
    "\n",
    "for x in range(len(input[0])):\n",
    "    zeroes = 0\n",
    "    ones = 0\n",
    "    for i in range(len(input)):\n",
    "        if input[i][x] == \"0\":\n",
    "            zeroes += 1\n",
    "        else:\n",
    "            ones += 1\n",
    "    if ones > zeroes:\n",
    "        gammaRate.append(\"1\")\n",
    "        epsilonRate.append(\"0\")\n",
    "    else:\n",
    "        gammaRate.append(\"0\")\n",
    "        epsilonRate.append(\"1\")\n",
    "     \n",
    "gammaRate = BinToDec(int(''.join(gammaRate)))\n",
    "epsilonRate = BinToDec(int(''.join(epsilonRate)))\n",
    "answer = gammaRate * epsilonRate\n",
    "print(answer)"
   ]
  }
 ],
 "metadata": {
  "interpreter": {
   "hash": "e7370f93d1d0cde622a1f8e1c04877d8463912d04d973331ad4851f04de6915a"
  },
  "kernelspec": {
   "display_name": "Python 3.9.7 64-bit",
   "name": "python3"
  },
  "language_info": {
   "codemirror_mode": {
    "name": "ipython",
    "version": 3
   },
   "file_extension": ".py",
   "mimetype": "text/x-python",
   "name": "python",
   "nbconvert_exporter": "python",
   "pygments_lexer": "ipython3",
   "version": "3.9.7"
  },
  "orig_nbformat": 4
 },
 "nbformat": 4,
 "nbformat_minor": 2
}
